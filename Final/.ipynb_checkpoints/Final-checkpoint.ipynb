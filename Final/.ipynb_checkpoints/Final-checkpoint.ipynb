{
 "cells": [
  {
   "cell_type": "code",
   "execution_count": null,
   "metadata": {},
   "outputs": [],
   "source": [
    "# used for manipulating directory paths\n",
    "import os\n",
    "\n",
    "# Scientific and vector computation for python\n",
    "import numpy as np\n",
    "\n",
    "# Plotting library\n",
    "from matplotlib import pyplot\n",
    "import matplotlib as mpl\n",
    "\n",
    "# Optimization module in scipy\n",
    "import scipy\n",
    "# will be used to load MATLAB mat datafile format\n",
    "from scipy.io import loadmat\n",
    "\n",
    "# library written for this exercise providing additional functions for assignment submission, and others\n",
    "import utils\n",
    "import time\n",
    "import progressbar as pb\n",
    "import concurrent\n",
    "\n",
    "# define the submission/grader object for this exercise\n",
    "\n",
    "# tells matplotlib to embed plots within the notebook\n",
    "%matplotlib inline\n",
    "import pickle\n",
    "import csv\n",
    "import implicit\n",
    "import itertools"
   ]
  },
  {
   "cell_type": "code",
   "execution_count": 39,
   "metadata": {},
   "outputs": [],
   "source": [
    "def popularityScale(X, zeta):\n",
    "    #frequencies of each track\n",
    "    freqs = np.sum(X, axis = 0)\n",
    "    #popularity scaling term is the nth root over the original\n",
    "    z = (1-zeta)/zeta\n",
    "    #scalar to make it so the most popular song is \n",
    "    scalar = np.reciprocal(np.amax(freqs)**z)\n",
    "    #applying frequency scaling to the matrix\n",
    "    return X * (scalar * (freqs**z))"
   ]
  },
  {
   "cell_type": "code",
   "execution_count": 44,
   "metadata": {},
   "outputs": [],
   "source": [
    "mat = scipy.sparse.load_npz(\"Data/data.npz\")\n",
    "densemat = scipy.sparse.dok_matrix.toarray(mat)\n",
    "regmat = scipy.sparse.csr_matrix(popularityScale(densemat,1))\n",
    "scipy.sparse.save_npz(\"Data/data10.npz\",regmat)"
   ]
  },
  {
   "cell_type": "code",
   "execution_count": 48,
   "metadata": {},
   "outputs": [
    {
     "name": "stderr",
     "output_type": "stream",
     "text": [
      "100%|████████████████████████████████████████████████████████████████████████████████| 15.0/15 [00:05<00:00,  2.46it/s]\n"
     ]
    }
   ],
   "source": [
    "mat = scipy.sparse.load_npz(\"Data/data10.npz\")\n",
    "model = implicit.als.AlternatingLeastSquares(factors=200, use_gpu=False)\n",
    "model.fit(mat.T)\n",
    "#recs = model.recommend(row, interaction_matrix, N=num_tracks, recalculate_user=METHOD==\"ALS\")"
   ]
  },
  {
   "cell_type": "code",
   "execution_count": null,
   "metadata": {},
   "outputs": [],
   "source": [
    "path = \"Data/data_big\\\\\"\n",
    "files = os.listdir(path)\n",
    "master_playlists = list()\n",
    "master_songs_set = set()\n",
    "master_songs_records = list()\n",
    "\n",
    "def process_file(file):\n",
    "    start_time = time.time()\n",
    "    file_row = files.index(file)\n",
    "    file_contents_json = open(path + file)\n",
    "    file_contents = json.load(file_contents_json)\n",
    "    playlists_in_file = file_contents['playlists']\n",
    "\n",
    "    for playlist in playlists_in_file:\n",
    "        playlist_name = dict(playlist)['name']\n",
    "        songs = list()\n",
    "       \n",
    "        for song in dict(playlist)['tracks']:\n",
    "            song_name = dict(song)['track_name']\n",
    "            songs.append(song_name)\n",
    "            master_songs_set.add(song_name)\n",
    "            master_songs_records.append((song_name, playlist_name))\n",
    "           \n",
    "        master_playlists.append(playlist_name)\n",
    "\n",
    "    del playlists_in_file\n",
    "    print(str(file_row) + \",\" + time.strftime(\"%H:%M:%S\", time.gmtime(time.time() - start_time)) + \"\\t\")\n",
    "\n",
    "def process_all_files(file_list):\n",
    "    start_time = time.time()\n",
    "    with concurrent.futures.ThreadPoolExecutor(max_workers=5) as executor:\n",
    "        executor.map(process_file, file_list)\n",
    "    print(\"all files processed in \" + time.strftime(\"%H:%M:%S\", time.gmtime(time.time() - start_time)) + \"\\t(\" + str(len(master_playlists)) + \" playlists, \" + str(len(master_songs_set)) + \" songs)\")\n",
    "\n",
    "process_all_files(files)\n",
    "\n",
    "master_songs_set_list = list(master_songs_set)\n",
    "master_songs_vector = np.asarray(master_songs_set_list)\n",
    "m = len(master_playlists)\n",
    "n = len(master_songs_set_list)\n",
    "matrix = scipy.sparse.dok_matrix((m,n), dtype=int)\n",
    "\n",
    "start_time_total = time.time()\n",
    "counter = 0\n",
    "progress = pb.ProgressBar(widgets=[pb.Percentage(),\"\\t\", pb.Bar(),\"\\t\", pb.Timer(), \"\\tTotal Completed: \", pb.Counter()], maxval=len(master_songs_records)).start()\n",
    "for record in master_songs_records:\n",
    "    start_time = time.time()\n",
    "    matrix[master_playlists.index(record[1]),master_songs_set_list.index(record[0])] = 1\n",
    "    counter  = counter + 1\n",
    "    progress.update(counter)\n",
    "print(\"all playlists processed in \" + time.strftime(\"%H:%M:%S\", time.gmtime(time.time() - start_time_total)))\n",
    "matrix"
   ]
  },
  {
   "cell_type": "code",
   "execution_count": null,
   "metadata": {},
   "outputs": [],
   "source": []
  }
 ],
 "metadata": {
  "kernelspec": {
   "display_name": "Python 3",
   "language": "python",
   "name": "python3"
  }
 },
 "nbformat": 4,
 "nbformat_minor": 2
}
